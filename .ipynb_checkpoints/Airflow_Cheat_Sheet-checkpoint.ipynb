{
 "cells": [
  {
   "cell_type": "markdown",
   "id": "27d8dfb2",
   "metadata": {},
   "source": [
    "# AirFlow"
   ]
  },
  {
   "attachments": {
    "image-2.png": {
     "image/png": "[encoded data removed]"
    }
   },
   "cell_type": "markdown",
   "id": "46f42a54",
   "metadata": {},
   "source": [
    "**DAG:** Directed Acyclic Graph\n",
    "\n",
    "    -Individual components does not loop\n",
    "\n",
    "   ![image-2.png](attachment:image-2.png)"
   ]
  },
  {
   "cell_type": "code",
   "execution_count": null,
   "id": "eff6f88a",
   "metadata": {},
   "outputs": [],
   "source": [
    "#Import the Dag object\n",
    "from airflow.models import Dag\n",
    "\n",
    "from datetime import datetime\n",
    "\n",
    "#attributes to be applied to our DAG (optional but powerfull)\n",
    "default_arguments = {\n",
    "    \"owner\": 'e-capi',\n",
    "    'email': 'e-capi@owner.com', #e-mail for alerting\n",
    "    \"start_date\": datetime(2021,1,20) #early datetime that the Dag can be run\n",
    "}\n",
    "\n",
    "#DAG Object\n",
    "etl_dag = DAG('etl_workflow', default_args=default_arguments) #"
   ]
  },
  {
   "cell_type": "markdown",
   "id": "29971cdd",
   "metadata": {},
   "source": [
    "**DAG's command line**"
   ]
  },
  {
   "cell_type": "code",
   "execution_count": null,
   "id": "efe5628d",
   "metadata": {},
   "outputs": [],
   "source": [
    "airflow -h #Commands descriptions many related to DAG's\n",
    "airflow list_dags #Shox all recognized DAG's"
   ]
  },
  {
   "cell_type": "markdown",
   "id": "f0cffaee",
   "metadata": {},
   "source": [
    "## Airflow Operators"
   ]
  },
  {
   "cell_type": "markdown",
   "id": "e13d757d",
   "metadata": {},
   "source": [
    "**Represent a single task in a workflow, send and email, run a python script, run a command, etc.**\n",
    "\n",
    "-They run independently and do not share information between operators\n",
    "\n",
    "-Various operators to perform different tasks\n",
    "    \n",
    "        -DummyOperator(task_id='example', dag=dag)"
   ]
  },
  {
   "cell_type": "code",
   "execution_count": null,
   "id": "0ec43005",
   "metadata": {},
   "outputs": [],
   "source": [
    "#Executes a given Bash command or script (requires 3 arguments; task_id, bash_command (raw command/script) & dag it belongs to.  \n",
    "BashOperator(\n",
    "         task_id='bash_example',\n",
    "         bash_command='echo \"Example!\"',    (id script could be runcleanup.sh)\n",
    "         dag=ml_dag)"
   ]
  },
  {
   "cell_type": "code",
   "execution_count": null,
   "id": "dd237ac1",
   "metadata": {},
   "outputs": [],
   "source": [
    "#BashOperator examples\n",
    "from airflow.operators.bash_operator import BashOperator\n",
    "\n",
    "example_task = BashOperator(task_id='bash_ex',\n",
    "                           bash_command='echo 1',\n",
    "                           dag=dag)"
   ]
  },
  {
   "cell_type": "markdown",
   "id": "f4a288f1",
   "metadata": {},
   "source": [
    "## Airflow Tasks"
   ]
  },
  {
   "cell_type": "markdown",
   "id": "350412d3",
   "metadata": {},
   "source": [
    "-Tasks are Instance of operators\n",
    "\n",
    "-Usually assigned to a Python variable"
   ]
  },
  {
   "cell_type": "markdown",
   "id": "64ca4ceb",
   "metadata": {},
   "source": [
    "### Task dependendencies"
   ]
  },
  {
   "cell_type": "markdown",
   "id": "db2b8fcb",
   "metadata": {},
   "source": [
    "Define a given order of task completion\n",
    "\n",
    "task dependencies are referred to as **upstream**(>>) or **downstream**(<<) tasks\n",
    "\n",
    "**Upstream (before):** Most be completed prio to any *downstream* (after) task"
   ]
  },
  {
   "cell_type": "code",
   "execution_count": null,
   "id": "266abd47",
   "metadata": {},
   "outputs": [],
   "source": [
    "#Example:\n",
    "\n",
    "task1 = BashOperator(task_id='first_task',\n",
    "                           bash_command='echo 1',\n",
    "                           dag=example_dag)\n",
    "\n",
    "task2 = BashOperator(task_id='second_task',\n",
    "                           bash_command='echo 2',\n",
    "                           dag=example_dag)\n",
    "\n",
    "#set first task to run before second task\n",
    "task1 >> task2 # or task2 << task1"
   ]
  },
  {
   "cell_type": "code",
   "execution_count": null,
   "id": "53cdd9b2",
   "metadata": {},
   "outputs": [],
   "source": [
    "#Mixed dependencies\n",
    "task1>>task2<<task3\n",
    "#or\n",
    "task1>>task2\n",
    "task3>>task2"
   ]
  },
  {
   "cell_type": "markdown",
   "id": "9920e9b4",
   "metadata": {},
   "source": [
    "## Additional operators"
   ]
  },
  {
   "cell_type": "markdown",
   "id": "65732539",
   "metadata": {},
   "source": [
    "### PythonOperator"
   ]
  },
  {
   "cell_type": "markdown",
   "id": "d698e94d",
   "metadata": {},
   "source": [
    "- Executes a Python function/callable\n",
    "\n",
    "- Same as BashOperator but with more options\n",
    "\n",
    "- Can pass arguments"
   ]
  },
  {
   "cell_type": "code",
   "execution_count": null,
   "id": "4e2d290e",
   "metadata": {},
   "outputs": [],
   "source": [
    "#Import\n",
    "form airflow.operators.python_operator import PythonOperator\n",
    "\n",
    "def printme():\n",
    "    print('This goes in the logs!')\n",
    "    \n",
    "python_task = PythonOperator(\n",
    "    task_id='simple_print',\n",
    "    python_callable=printme,\n",
    "    dag=example_dag\n",
    ")"
   ]
  },
  {
   "cell_type": "markdown",
   "id": "a8537420",
   "metadata": {},
   "source": [
    "**Arguments:**\n",
    "\n",
    "   - **Positional**\n",
    "    \n",
    "   - **Keyword:**  Use the op_kwargs dictionary"
   ]
  },
  {
   "cell_type": "code",
   "execution_count": null,
   "id": "c6ae5433",
   "metadata": {},
   "outputs": [],
   "source": [
    "#op_kwargs example\n",
    "import time\n",
    "\n",
    "def sleep(lenght_of_time):\n",
    "    time.sleep(lenght_of_time)\n",
    "\n",
    "sleep_task =PythonOperator(\n",
    "    task_id='sleep',\n",
    "    python_callable=sleep,\n",
    "    op_kwargs={'lenght_of_time': 5},\n",
    "    dag=example_dag\n",
    ")"
   ]
  },
  {
   "cell_type": "markdown",
   "id": "98f859c7",
   "metadata": {},
   "source": [
    "### Other Operators"
   ]
  },
  {
   "cell_type": "markdown",
   "id": "952683bb",
   "metadata": {},
   "source": [
    "Found in the *airflow.operators* library"
   ]
  },
  {
   "cell_type": "markdown",
   "id": "7ce96e76",
   "metadata": {},
   "source": [
    "Other examples are email operator which can contain html content or Attachments"
   ]
  },
  {
   "cell_type": "code",
   "execution_count": null,
   "id": "251999e0",
   "metadata": {},
   "outputs": [],
   "source": [
    "#Generate and email \n",
    "from airflow.operators.email_operator import EmailOperator\n",
    "\n",
    "email_task = EmailOperator(\n",
    "    task_id='email_sales_report',\n",
    "    to='sales_manager@example.com',\n",
    "    subject='Automated Sales Report',\n",
    "    html_content='Attached is the latest sales report',\n",
    "    files='latest_sales.xlsx',\n",
    "    dag=example_dag\n",
    ")"
   ]
  },
  {
   "cell_type": "markdown",
   "id": "641a2132",
   "metadata": {},
   "source": [
    "## Scheduling"
   ]
  },
  {
   "cell_type": "markdown",
   "id": "64a70ec1",
   "metadata": {},
   "source": [
    "A DAG runs: \n",
    "    \n",
    "- A specific instance of a workflow at a point in time\n",
    "- Can be run manually or via **schedule_interval**\n"
   ]
  },
  {
   "cell_type": "markdown",
   "id": "92ce48be",
   "metadata": {},
   "source": [
    "**Schedule details**\n",
    "\n",
    "- start_date: date/time to initially schedule the DAG run\n",
    "- end_date: (optional) when to stop running DAG instances\n",
    "- max_tries: (optional) attribute for how many attempts to make\n",
    "- schedule_interval: How often to run (schedule for execution) \n"
   ]
  },
  {
   "cell_type": "markdown",
   "id": "c9b15eba",
   "metadata": {},
   "source": [
    "**Schedule_interval:**\n",
    "\n",
    "- How often to schedule the DAG\n",
    "- Between the start_date and end_date (min and max value where the dag can run, not precise times)\n",
    "- Scheduling can be defined via cron style syntax or via build-in presets"
   ]
  },
  {
   "attachments": {
    "image.png": {
     "image/png": "[encoded data removed]"
    }
   },
   "cell_type": "markdown",
   "id": "e19ffc16",
   "metadata": {},
   "source": [
    "**Cron Syntax**\n",
    "\n",
    "![image.png](attachment:image.png)"
   ]
  },
  {
   "cell_type": "code",
   "execution_count": null,
   "id": "9657e443",
   "metadata": {},
   "outputs": [],
   "source": [
    "0 12 * * * #Run daily at noon\n",
    "* * 25 2 * #Run once per minute on February 25\n",
    "0,15,30,45 * * * * #Run every 15 minutes"
   ]
  },
  {
   "cell_type": "markdown",
   "id": "c6f15e29",
   "metadata": {},
   "source": [
    "**Airflow scheduler presets**\n",
    "\n",
    "**preset** -------------------------------- **cron equivalent**\n",
    "- @hourly  -------------------------------- 0 * * * *\n",
    "- @daily   -------------------------------- 0 0 * * *\n",
    "- @weekly  -------------------------------- 0 0 * * 0\n",
    "\n"
   ]
  },
  {
   "cell_type": "markdown",
   "id": "2855e200",
   "metadata": {},
   "source": [
    "**cron * * * * * reference**\n",
    "\n",
    "*minutes, *hours, *days, *months, *days of the week"
   ]
  },
  {
   "cell_type": "markdown",
   "id": "4e55541b",
   "metadata": {},
   "source": [
    "**Special presets**\n",
    "\n",
    "- **None**  - Don't schedule ever, used for manually triggered DAGs\n",
    "- **@once** - Schedule only once"
   ]
  },
  {
   "cell_type": "markdown",
   "id": "446d00d2",
   "metadata": {},
   "source": [
    "**/!\\ Schedule_interal issues :**\n",
    "\n",
    "- Use the *start_date* as the earliest possible value\n",
    "- Schedule the task at start_date + schedule_interval\n"
   ]
  },
  {
   "cell_type": "code",
   "execution_count": null,
   "id": "0b967108",
   "metadata": {},
   "outputs": [],
   "source": [
    "'start_date': datetime(2020,2,25), #yyyy, m, d\n",
    "'schedule_interval': @daily\n",
    "\n",
    "    #This means the earliest starting time to run the DAG is on February 26th 2020"
   ]
  },
  {
   "cell_type": "markdown",
   "id": "5dad3082",
   "metadata": {},
   "source": [
    "## Sensors"
   ]
  },
  {
   "cell_type": "markdown",
   "id": "f0e64398",
   "metadata": {},
   "source": [
    "**Sensor is an operator that waits for a certain condition to be true**\n",
    "- Creation of a file\n",
    "- Upload of a database record\n",
    "- Certain response from a web request\n",
    "\n",
    "**Can define how often to check for the condition to be true**\n",
    "\n",
    "**They are assign to tasks**\n"
   ]
  },
  {
   "cell_type": "code",
   "execution_count": null,
   "id": "3d016bc5",
   "metadata": {},
   "outputs": [],
   "source": [
    "#Import\n",
    "from airflow.sensors.base_sensor_operator"
   ]
  },
  {
   "cell_type": "markdown",
   "id": "bba8d718",
   "metadata": {},
   "source": [
    "**Sensor arguments:**\n",
    "\n",
    "<code>**from** *airflow.sensors.base_sensor_operator*</code>\n",
    "\n",
    "- <code>**mode**</code> - How to check for the condition\n",
    "    - <code>**mode='poke'</code>** - The default, run repeatedly\n",
    "    - <code>**mode='reschedule'**</code> - Give up task slot and try again later\n",
    "\n",
    "- <code>**poke_interval**</code> - How often to wait between checks\n",
    "- <code>**timeout**</code> - How long to wait (in seconds) before failing task (make sure is significantly shorter than schedule interval)"
   ]
  },
  {
   "cell_type": "markdown",
   "id": "ad2e0d04",
   "metadata": {},
   "source": [
    "**File sensor:**\n",
    "\n",
    "<code>**from** *airflow.contrib.sensors*</code> library"
   ]
  },
  {
   "cell_type": "code",
   "execution_count": null,
   "id": "b527c393",
   "metadata": {},
   "outputs": [],
   "source": [
    "#Example\n",
    "\n",
    "from airflow.contrib.sensors.file_sensor import FileSensor\n",
    "\n",
    "file_sensor_task = FileSensor(task_id=\"file_sense\",\n",
    "                              filepath='salesdata.csv',\n",
    "                              poke_interval=300, #in seconds\n",
    "                              dag=sales_report_dag)\n",
    "\n",
    "#Task herarchy\n",
    "init_sales_cleanup >> file_sensor_task >> generate_report"
   ]
  },
  {
   "cell_type": "markdown",
   "id": "437cbf8a",
   "metadata": {},
   "source": [
    "**Other sensors:**\n",
    "\n",
    "- <code>**ExternalTaskSensor**</code> - wait for a task in another DAG to complete\n",
    "- <code>**HttpSensor**</code> - Request a web URL and check for content\n",
    "- <code>**SqlSensor**</code> - Runs a SQL query to check for content\n",
    "\n",
    "Other sensors in **airflow.sensors** and **airflow.contrib.sensors** "
   ]
  },
  {
   "cell_type": "markdown",
   "id": "51cf2a26",
   "metadata": {},
   "source": [
    "## Executors"
   ]
  },
  {
   "cell_type": "markdown",
   "id": "a5159aaf",
   "metadata": {},
   "source": [
    "**Executors:**\n",
    "\n",
    "- Run tasks\n",
    "- Different executors handle running tasks differently (run single a single task on local / split individual tasks among all the system as a cluster\n",
    "\n",
    "\n",
    "- Executors Examples:\n",
    "    - <code>**SequentialExecutor**</code>:\n",
    "        - Default Airflow executor\n",
    "        - Runs one task at a time\n",
    "        - Useful for debugging\n",
    "        - While functional, **not** really recommended for production\n",
    "    - <code>**LocalExecutor**</code>\n",
    "        - Runs on a single system\n",
    "        - Treats tasks as a processes\n",
    "        - *Parallelism* defined by the user (unlimited or limited to a certain number of simultaneous tasks)\n",
    "        - Can utilize all resources of a given host system (Good choice for a single production Airflow system)\n",
    "    - <code>**CeleryExecutor**</code>\n",
    "        - Uses a Celery backend as a task manager (Python queueing system that allows multiple system to communicate as a basic cluster\n",
    "        - Multiple worker systems can be defined (multiple Airflow systems can be configured as workers for a given setup or task)\n",
    "        - Is significantly more difficult to setup & configure\n",
    "        - Extremely powerful method for organizations with extensive workloads"
   ]
  },
  {
   "cell_type": "markdown",
   "id": "3c58113d",
   "metadata": {},
   "source": [
    "**Determine your executor**\n",
    "- Command line via <code>airflow.cfg</code> file\n",
    "- Look for the **executor=** line \n",
    "    - <code>cat airflow/airflow.cfg | grep \"executor =\"\n",
    "    executor = SequentialExecutor</code>\n",
    "    \n",
    "**Determine your executor #2**\n",
    "- Via the first line of <code>airflow list_dags</code> *command line*\n",
    "    - INFO - Using <code>SequentialExecutor</code> "
   ]
  },
  {
   "cell_type": "markdown",
   "id": "d26fd6af",
   "metadata": {},
   "source": [
    "## Debugging and troubleshooting in Airflow"
   ]
  },
  {
   "cell_type": "markdown",
   "id": "a62e73b2",
   "metadata": {},
   "source": [
    "**Typical issues...**\n",
    "- **DAG won't run on schedule:**\n",
    "    - Check if scheduler is running\n",
    "        - **<ins>fix</ins>:** <code>airflow scheduler</code> *from command-line*\n",
    "        \n",
    "    - At least one <code>schedule_interval</code> hasn't passed.\n",
    "        - **<ins>fix</ins>:** Modify the attributes to meet your requirements. (no specific fix)\n",
    "        \n",
    "    - Not enough tasks free within the executor to run.\n",
    "        - **<ins>fixes</ins>:**\n",
    "            - Change executor type\n",
    "            - Add system resources\n",
    "            - Add more systems\n",
    "            - Change DAG scheduling\n",
    "- **Dag won't load:**\n",
    "    - DAG not in web UI\n",
    "    - DAG not in <code>airflow list_dags</code>\n",
    "    - **<ins>Possible solutions</ins>:**\n",
    "        - Verify DAG file is in correct folder\n",
    "        - Determine the DAGs folder via <code>airflow.cfg</code>\n",
    "        \n",
    "            - ~$ head airflow/airflof.cfg\n",
    "            - <code>dags_folder = /home/repl/airflow/dags</code> (must be an absolute path)\n",
    "\n",
    "- **Syntax errors:**\n",
    "    - **<ins>Possible solutions</ins>:**\n",
    "        - Run <code>airflow list_dags</code>\n",
    "            - Will give debugging info on the command line\n",
    "        - Run <code>python3 dagfile.py </code>\n",
    "            - If they are errors -> a Traceback will appeared"
   ]
  },
  {
   "cell_type": "markdown",
   "id": "3c96fcf3",
   "metadata": {},
   "source": [
    "## SLAs and reporting"
   ]
  },
  {
   "attachments": {
    "image.png": {
     "image/png": "[encoded data removed]"
    }
   },
   "cell_type": "markdown",
   "id": "bb4de52d",
   "metadata": {},
   "source": [
    "**SLA:** *(Service Level Agreement)*\n",
    "- The amount of time a task or a DAG should require to run\n",
    "- *SLA Miss* is any time the task / DAG does not meet the expected timing\n",
    "- If an SLA is missed, an email is sent out and a log is stored.\n",
    "- You can view SLA missed in the web UI\n",
    "\n",
    "**SLA Misses:**\n",
    "- Found under Browser: SLA Misses\n",
    "![image.png](attachment:image.png)"
   ]
  },
  {
   "cell_type": "markdown",
   "id": "ffc17723",
   "metadata": {},
   "source": [
    "**Defining SLAs:**\n",
    "\n",
    "- Using the <code>'sla'</code> argument on the task"
   ]
  },
  {
   "cell_type": "code",
   "execution_count": null,
   "id": "3b025a1d",
   "metadata": {},
   "outputs": [],
   "source": [
    "task1 = BashOperator(task_id='sla_task',\n",
    "                    bash_commad='runcode.sh',\n",
    "                    sla=timedelta(seconds=30),\n",
    "                    dag=dag)"
   ]
  },
  {
   "cell_type": "markdown",
   "id": "c461bb46",
   "metadata": {},
   "source": [
    "- On the <code>default_args</code> dictionary"
   ]
  },
  {
   "cell_type": "code",
   "execution_count": null,
   "id": "3018e02c",
   "metadata": {},
   "outputs": [],
   "source": [
    "default_args={\n",
    "    'sla': timedelta(minutes=20),\n",
    "    'start_date': datetime(2020,2,20)\n",
    "}\n",
    "dag = DAG('sla_dag', default_args=default_args)"
   ]
  },
  {
   "cell_type": "markdown",
   "id": "9a7169be",
   "metadata": {},
   "source": [
    "**timedelta object:**\n",
    "- In the <code>datetime</code> library\n",
    "- Accessed via <code>from datetime import timedelta</code>\n",
    "- Takes arguments; days, seconds, minutes, hours and weeks\n",
    "\n",
    "    <code>timedelta(days=4, hours=10, minutes=20, seconds=30)</code>"
   ]
  },
  {
   "cell_type": "markdown",
   "id": "9a7cf1dc",
   "metadata": {},
   "source": [
    "**General reporting:**\n",
    "- Options for success / failure/ error (sending messages options)\n",
    "- Keys in the default_args discionary"
   ]
  },
  {
   "cell_type": "code",
   "execution_count": null,
   "id": "a4056c5c",
   "metadata": {},
   "outputs": [],
   "source": [
    "default_args = {\n",
    "    'email': 'airflowalerts@owner.com',\n",
    "    'email_on_failure': True,\n",
    "    'email_on_retry': False,\n",
    "    'email_on_success': True,\n",
    "}"
   ]
  },
  {
   "cell_type": "markdown",
   "id": "9b59a38a",
   "metadata": {},
   "source": [
    "- Within DAGs from <code>EmailOperator</code> *(Global email on the Airflow documentation)*"
   ]
  },
  {
   "cell_type": "markdown",
   "id": "232d9e4f",
   "metadata": {},
   "source": [
    "## Working with templates"
   ]
  },
  {
   "cell_type": "markdown",
   "id": "75b88fc1",
   "metadata": {},
   "source": [
    "**Templates:**\n",
    "- Allow substituting information during a DAG run\n",
    "- Provide added flexibility when defining tasks\n",
    "- Templates are created using the <code>Jinja</code> templating language"
   ]
  },
  {
   "cell_type": "markdown",
   "id": "6f825750",
   "metadata": {},
   "source": [
    "**Non-Templated BashOperator example:**\n",
    "- Create a task to echo a list of files **(DRY)**"
   ]
  },
  {
   "cell_type": "code",
   "execution_count": null,
   "id": "da52288c",
   "metadata": {},
   "outputs": [],
   "source": [
    "#Templated BashOperator example:\n",
    "template_command = \"\"\"\n",
    "    echo \"Reading {{params.filename}}\" \n",
    "    \"\"\"\n",
    "#Create airflow task\n",
    "t1 = BashOperator(task_id ='template_task',\n",
    "                 params={'filename': 'file.txt'},\n",
    "                 dag=example_dag)"
   ]
  },
  {
   "cell_type": "code",
   "execution_count": null,
   "id": "8d08b7a4",
   "metadata": {},
   "outputs": [],
   "source": [
    "#Templated BashOperator example continue:\n",
    "template_command = \"\"\"\n",
    "    echo \"Reading {{params.filename}}\" \n",
    "    \"\"\"\n",
    "#Create airflow task\n",
    "t1 = BashOperator(task_id ='template_task',\n",
    "                 params={'filename': 'file.txt'},\n",
    "                 dag=example_dag)\n",
    "\n",
    "t2 = BashOperator(task_id ='template_task',\n",
    "                 params={'filename': 'file2.txt'},\n",
    "                 dag=example_dag)"
   ]
  },
  {
   "cell_type": "code",
   "execution_count": null,
   "id": "e9c92289",
   "metadata": {},
   "outputs": [],
   "source": [
    "#datetime example\n",
    "cleandata_dag = DAG('cleandata',\n",
    "                    default_args=default_args,\n",
    "                    schedule_interval='@daily')\n",
    "\n",
    "# Create a templated command to execute\n",
    "# 'bash cleandata.sh datestring'\n",
    "templated_command=\"\"\"\n",
    "bash cleandata.sh {{ ds_nodash }}\"\"\" \n",
    "\n",
    "\n",
    "# Modify clean_task to use the templated command\n",
    "clean_task = BashOperator(task_id='cleandata_task',\n",
    "                          bash_command=templated_command,\n",
    "                          dag=cleandata_dag)\n"
   ]
  },
  {
   "cell_type": "code",
   "execution_count": null,
   "id": "5089a426",
   "metadata": {},
   "outputs": [],
   "source": [
    "#example\n",
    "from airflow.models import DAG\n",
    "from airflow.operators.bash_operator import BashOperator\n",
    "from datetime import datetime\n",
    "\n",
    "default_args = {\n",
    "  'start_date': datetime(2020, 4, 15),\n",
    "}\n",
    "\n",
    "cleandata_dag = DAG('cleandata',\n",
    "                    default_args=default_args,\n",
    "                    schedule_interval='@daily')\n",
    "\n",
    "# Modify the templated command to handle a\n",
    "# second argument called filename.\n",
    "templated_command = \"\"\"\n",
    "  bash cleandata.sh {{ ds_nodash }} {{params.filename}}\n",
    "\"\"\"\n",
    "\n",
    "# Modify clean_task to pass the new argument\n",
    "clean_task = BashOperator(task_id='cleandata_task',\n",
    "                          bash_command=templated_command,\n",
    "                          params={'filename': 'salesdata.txt'},\n",
    "                          dag=cleandata_dag)\n",
    "\n",
    "# Create a new BashOperator clean_task2\n",
    "clean_task2 = BashOperator(task_id='cleandata_task2',\n",
    "                           bash_command=templated_command,\n",
    "                           params={'filename': 'supportdata.txt'},\n",
    "                           dag=cleandata_dag)\n",
    "                           \n",
    "# Set the operator dependencies\n",
    "clean_task >> clean_task2"
   ]
  },
  {
   "cell_type": "markdown",
   "id": "1066a4d6",
   "metadata": {},
   "source": [
    "### More templates"
   ]
  },
  {
   "cell_type": "markdown",
   "id": "f1e949b4",
   "metadata": {},
   "source": [
    "**More advance templates:**"
   ]
  },
  {
   "cell_type": "code",
   "execution_count": null,
   "id": "66c959a6",
   "metadata": {},
   "outputs": [],
   "source": [
    "template_command=\"\"\"\n",
    "{% for filename in params.filenames %}\n",
    "    echo \"Reading{{filename}}\"\n",
    "{% endfor %}\n",
    "\"\"\" #{% endfor %} it's a Jinja entry representing the end of the for loop\n",
    "\n",
    "t1 = BashOperator(task1='template_task',\n",
    "                 bash_command= template_command,\n",
    "                 params={'filename': ['file1.txt', 'file2.txt']} #<- maybe creating a function for creating n file names \n",
    "                 dag=example_dag)"
   ]
  },
  {
   "cell_type": "markdown",
   "id": "ec947e23",
   "metadata": {},
   "source": [
    "**Variables:**\n",
    "- Airflow built-in runtime variables\n",
    "- Provides assorted information about DAG runs, and even the system configuration\n",
    "- **Examples Include:** *(String not **Datetime** python object)*\n",
    "    - Execution Date: <code>{{ ds }} </code> *# YYYY-MM-DD*\n",
    "    - Execution Date, no dashes: <code>{{ ds_nodash }}</code> *# YYYYMMDD*\n",
    "    - Prev Execution date: <code>{{ prev_ds }}</code> *# YYYY-MM-DD*\n",
    "    - Prev Execution date, no dashes: <code>{{ prev_ds_nodash }}</code> *# YYYYMMDD*\n",
    "    - DAG **<ins>object</ins>:** <code>{{ dag }}</code>\n",
    "    - Airflow config object: <code>{{ conf }}</code>"
   ]
  },
  {
   "cell_type": "markdown",
   "id": "835356e0",
   "metadata": {},
   "source": [
    "**Macros:**\n",
    "\n",
    "<code>{{ macros }}</code> variable\n",
    "- <code>{{ macros.datetime }}</code>: The <code>datetime.datetime</code> object\n",
    "- <code>{{ macros.timedelta }}</code>: The <code>timedelta</code> object\n",
    "- <code>{{ macros.uuid }}</code>: Python's <code>uuid</code> object\n",
    "- <code>{{ macros.ds_add('2020-04-15', 5) }}</code>: Modify days from a date, this example **returns *2020-04-20*** (can subtract if **int** is negative)\n"
   ]
  },
  {
   "cell_type": "markdown",
   "id": "2ac5ffb3",
   "metadata": {},
   "source": [
    "**Exercise instructions:**\n",
    "- Create a Python string that represents the email content you wish to send. Use the substitutions for the current date string (with dashes) and a variable called <code>username</code>.\n",
    "\n",
    "- Create the <code>EmailOperator</code> task using the template string for the html_content.\n",
    "\n",
    "- Set the subject field to a macro call using <code>macros.uuid.uuid4()</code>. This simply provides a string of a universally unique identifier as the subject field.\n",
    "\n",
    "- Assign the <code>params</code> dictionary as appropriate with the <code>username</code> of <code>testemailuser</code>."
   ]
  },
  {
   "cell_type": "code",
   "execution_count": null,
   "id": "357d0f37",
   "metadata": {},
   "outputs": [],
   "source": [
    "#Example\n",
    "from airflow.models import DAG\n",
    "from airflow.operators.email_operator import EmailOperator\n",
    "from datetime import datetime\n",
    "\n",
    "# Create the string representing the html email content\n",
    "html_email_str = \"\"\"\n",
    "Date: {{ ds }} #date with dashes\n",
    "Username: {{ params.username }} #call the params username\n",
    "\"\"\"\n",
    "\n",
    "email_dag = DAG('template_email_test',\n",
    "                default_args={'start_date': datetime(2020, 4, 15)},\n",
    "                schedule_interval='@weekly')\n",
    "                \n",
    "email_task = EmailOperator(task_id='email_task',\n",
    "                           to='testuser@datacamp.com',\n",
    "                           subject=\"{{ macros.uuid.uuid4() }}\", #generate a s universally unique subject field\n",
    "                           html_content=html_email_str, #call the template\n",
    "                           params={'username': 'testemailuser'},\n",
    "                           dag=email_dag)"
   ]
  },
  {
   "cell_type": "markdown",
   "id": "4ee22d63",
   "metadata": {},
   "source": [
    "## Branching"
   ]
  },
  {
   "cell_type": "markdown",
   "id": "8a8394a8",
   "metadata": {},
   "source": [
    "**Branching in Airflow:**\n",
    "- Provides condition logic\n",
    "- Using <code>BranchPythonOperator</code>\n",
    "- <code>from airflow.operators.python_operator import BranchPythonOperator</code>\n",
    "- Takes a <code>python_callable</code> to return the next task id (or list of ids) to follow"
   ]
  },
  {
   "cell_type": "code",
   "execution_count": null,
   "id": "4a1d98b1",
   "metadata": {},
   "outputs": [],
   "source": [
    "#Branching Example\n",
    "\n",
    "def branch_test(**kwargs):\n",
    "    if int(kwargs['ds_nodash']) % 2 ==0:\n",
    "        return 'even_day_task'\n",
    "    else:\n",
    "        return 'odd_day_task'\n",
    "    \n",
    "    \n",
    "branch_task = BranchPytythonOperator(task_id='branch_test',\n",
    "                                     dag=dag,\n",
    "                                    provide_context=True,\n",
    "                                    python_callable=branch_test)\n",
    "\n",
    "start_task>> branch_task >> even_day_task >>even_day_task2\n",
    "branch_task >> odd_day_task >> odd_day_task2"
   ]
  },
  {
   "cell_type": "markdown",
   "id": "17cb37fc",
   "metadata": {},
   "source": [
    "**Branching example2:**\n",
    "\n",
    "You'd like to run a different code path if the current execution date represents a new year (ie, 2020 vs 2019).\n",
    "The DAG is defined for you, along with the tasks in question. Your current task is to implement the BranchPythonOperator.\n",
    "\n",
    "**Instructions:**\n",
    "- In the function <code>year_check</code>, configure the code to determine if the year of the current execution date is different than the previous execution date (ie, is the year different between the appropriate Airflow template variables.)\n",
    "- Finish the <code>BranchPythonOperator</code> by adding the appropriate arguments.\n",
    "- Set the dependencies on <code>current_year_task</code> <code>and new_year_task</code>."
   ]
  },
  {
   "cell_type": "code",
   "execution_count": null,
   "id": "7884046c",
   "metadata": {},
   "outputs": [],
   "source": [
    "# Create a function to determine if years are different\n",
    "def year_check(**kwargs):\n",
    "    current_year = int(kwargs['ds_nodash'][0:4])\n",
    "    previous_year = int(kwargs['prev_ds_nodash'][0:4]) #prev_ds_nodash gives the previous year\n",
    "    if current_year == previous_year:\n",
    "        return 'current_year_task'\n",
    "    else:\n",
    "        return 'new_year_task'\n",
    "\n",
    "# Define the BranchPythonOperator\n",
    "branch_task = BranchPythonOperator(task_id='branch_task', dag=branch_dag,\n",
    "                                   python_callable=year_check, provide_context=True) #call the function and set context to true\n",
    "# Define the dependencies\n",
    "branch_dag >> current_year_task\n",
    "branch_dag >> new_year_task"
   ]
  },
  {
   "cell_type": "markdown",
   "id": "7df0b147",
   "metadata": {},
   "source": [
    "## Creating Production Pipelines"
   ]
  },
  {
   "cell_type": "markdown",
   "id": "0f7d176b",
   "metadata": {},
   "source": [
    "**Reminder to run a specific task from command line:**\n",
    "\n",
    "<code>airflow run dag_id task_id date </code>\n",
    "\n",
    "**To run a full DAG:**\n",
    "\n",
    "<code>airflow trigger_dag -e date dag_id </code>"
   ]
  },
  {
   "cell_type": "markdown",
   "id": "4c13dc4e",
   "metadata": {},
   "source": [
    "**Operators reminder:**\n",
    "\n",
    "- **BashOperator** - expects <code>bash_command</code>\n",
    "- **PythonOperator** - expects a <code>python_callable</code>\n",
    "- **BranchPythonOperator** - requires a <code>python_callable</code> and <code>provide_context=True</code>. The callable must accept <code>**kwargs</code>. \n",
    "- **Filesensor** - requires <code>filepath</code> arguments and might need <code>mode</code> or <code>poke_interval</code> attributes"
   ]
  },
  {
   "cell_type": "markdown",
   "id": "59132d80",
   "metadata": {},
   "source": [
    "**Template reminders:**\n",
    "- Many objects in Airflow can use templates\n",
    "- certain fields may use templated string, while others do not\n",
    "- One way to check is to use build-in documentation:\n",
    "    - Open python3 interpreter\n",
    "    - import necessary libraries(ie, <code>from airflow.operators.bash_operator import BashOperator</code>\n",
    "    - At prompt, run <code>help (Airflow object)</code>, ie, help(BashOperator)\n",
    "    - Look for a line that referencing *template_fields*. This will specify any of the arguments that can use templates"
   ]
  },
  {
   "cell_type": "markdown",
   "id": "190a33d1",
   "metadata": {},
   "source": [
    "**Test a task:**\n",
    "\n",
    "<code>airflow test *dag_id* *task_id* *date*</code>"
   ]
  },
  {
   "cell_type": "markdown",
   "id": "e52964da",
   "metadata": {},
   "source": [
    "## Last Exercise"
   ]
  },
  {
   "cell_type": "markdown",
   "id": "f853cb17",
   "metadata": {},
   "source": [
    "**Adding the final changes to your pipeline**\n",
    "\n",
    "To finish up your workflow, your manager asks that you add a conditional logic check to send a sales report via email, only if the day is a weekday. Otherwise, no email should be sent. In addition, the email task should be templated to include the date and a project name in the content.\n",
    "\n",
    "The branch callable is already defined for you."
   ]
  },
  {
   "cell_type": "markdown",
   "id": "5521c986",
   "metadata": {},
   "source": [
    "**Instructions**\n",
    "\n",
    "- Import the necessary operators.\n",
    "- Configure the EmailOperator to provide the specific data to the callable.\n",
    "- Complete the branch callable as necessary to point to the <code>email_report_task</code> or <code>no_email_task</code>.\n",
    "- Configure the branch operator to properly check for the condition."
   ]
  },
  {
   "cell_type": "code",
   "execution_count": null,
   "id": "aa8c540e",
   "metadata": {},
   "outputs": [],
   "source": [
    "#Otherfile\n",
    "from datetime import date\n",
    "\n",
    "def process_data(**kwargs):\n",
    "    file = open(\"/home/repl/workspace/processed_data-\" + kwargs['ds'] + \".tmp\", \"w\")\n",
    "    file.write(f\"Data processed on {date.today()}\")\n",
    "    file.close()"
   ]
  },
  {
   "cell_type": "code",
   "execution_count": null,
   "id": "2a937d4c",
   "metadata": {},
   "outputs": [],
   "source": [
    "from airflow.models import DAG\n",
    "from airflow.contrib.sensors.file_sensor import FileSensor\n",
    "from airflow.operators.bash_operator import BashOperator\n",
    "from airflow.operators.python_operator import PythonOperator\n",
    "from airflow.operators.python_operator import BranchPythonOperator\n",
    "from airflow.operators.dummy_operator import DummyOperator\n",
    "from airflow.operators.email_operator import EmailOperator\n",
    "from dags.process import process_data\n",
    "from datetime import datetime, timedelta\n",
    "\n",
    "# Update the default arguments and apply them to the DAG.\n",
    "\n",
    "default_args = {\n",
    "  'start_date': datetime(2019,1,1),\n",
    "  'sla': timedelta(minutes=90)\n",
    "}\n",
    "    \n",
    "dag = DAG(dag_id='etl_update', default_args=default_args)\n",
    "\n",
    "sensor = FileSensor(task_id='sense_file', \n",
    "                    filepath='/home/repl/workspace/startprocess.txt',\n",
    "                    poke_interval=45,\n",
    "                    dag=dag)\n",
    "\n",
    "bash_task = BashOperator(task_id='cleanup_tempfiles', \n",
    "                         bash_command='rm -f /home/repl/*.tmp',\n",
    "                         dag=dag)\n",
    "\n",
    "python_task = PythonOperator(task_id='run_processing', \n",
    "                             python_callable=process_data, #Import from process.py\n",
    "                             provide_context=True,\n",
    "                             dag=dag)\n",
    "\n",
    "\n",
    "email_subject=\"\"\"\n",
    "  Email report for {{ params.department }} on {{ ds_nodash }}\n",
    "\"\"\"\n",
    "\n",
    "\n",
    "email_report_task = EmailOperator(task_id='email_report_task',\n",
    "                                  to='sales@mycompany.com',\n",
    "                                  subject=email_subject,\n",
    "                                  html_content='',\n",
    "                                  params={'department': 'Data subscription services'},\n",
    "                                  dag=dag)\n",
    "\n",
    "\n",
    "no_email_task = DummyOperator(task_id='no_email_task', dag=dag)\n",
    "\n",
    "\n",
    "def check_weekend(**kwargs):\n",
    "    dt = datetime.strptime(kwargs['execution_date'],\"%Y-%m-%d\")\n",
    "    # If dt.weekday() is 0-4, it's Monday - Friday. If 5 or 6, it's Sat / Sun.\n",
    "    if (dt.weekday() < 5):\n",
    "        return 'email_report_task'\n",
    "    else:\n",
    "        return 'no_email_task'\n",
    "    \n",
    "    \n",
    "branch_task = BranchPythonOperator(task_id='check_if_weekend',\n",
    "                                   provide_context=True,\n",
    "                                   python_callable=check_weekend,\n",
    "                                   dag=dag)\n",
    "\n",
    "    \n",
    "sensor >> bash_task >> python_task\n",
    "\n",
    "python_task >> branch_task >> [email_report_task, no_email_task]\n"
   ]
  },
  {
   "cell_type": "markdown",
   "id": "0e64b50d",
   "metadata": {},
   "source": [
    "## Create an Airflow env and setting up a Pipeline"
   ]
  },
  {
   "cell_type": "code",
   "execution_count": null,
   "id": "8b4c4715",
   "metadata": {},
   "outputs": [],
   "source": [
    "pip install virtualenv\n",
    "virtualenv airflow-venv"
   ]
  },
  {
   "cell_type": "code",
   "execution_count": null,
   "id": "08601a66",
   "metadata": {},
   "outputs": [],
   "source": [
    "find ~/ -name \"airflow\""
   ]
  }
 ],
 "metadata": {
  "kernelspec": {
   "display_name": "Python 3 (ipykernel)",
   "language": "python",
   "name": "python3"
  },
  "language_info": {
   "codemirror_mode": {
    "name": "ipython",
    "version": 3
   },
   "file_extension": ".py",
   "mimetype": "text/x-python",
   "name": "python",
   "nbconvert_exporter": "python",
   "pygments_lexer": "ipython3",
   "version": "3.8.12"
  },
  "toc": {
   "base_numbering": 1,
   "nav_menu": {},
   "number_sections": true,
   "sideBar": true,
   "skip_h1_title": false,
   "title_cell": "Table of Contents",
   "title_sidebar": "Contents",
   "toc_cell": false,
   "toc_position": {},
   "toc_section_display": true,
   "toc_window_display": true
  }
 },
 "nbformat": 4,
 "nbformat_minor": 5
}
