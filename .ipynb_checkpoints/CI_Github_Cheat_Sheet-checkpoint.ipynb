{
 "cells": [
  {
   "cell_type": "markdown",
   "id": "2cba9a87",
   "metadata": {},
   "source": [
    "Create a **.github** directory and then a **workFlows** subdictory for any <code>.yml</code> files\n",
    "- Create a build.yml"
   ]
  },
  {
   "cell_type": "code",
   "execution_count": null,
   "id": "5e299fe5",
   "metadata": {},
   "outputs": [],
   "source": [
    "name: Build and Test [Python 3.6, 3.7, 3.8]\n",
    "    \n",
    "on: [push, pull_requests, releases] #we can trigger this for any github event\n",
    "\n",
    "#or be more specific\n",
    "\n",
    "on:\n",
    "    push:\n",
    "        branches:\n",
    "            - master\n",
    "            -release/**"
   ]
  },
  {
   "cell_type": "code",
   "execution_count": null,
   "id": "76ea5d05",
   "metadata": {},
   "outputs": [],
   "source": [
    "#specify the jobs for the workflow\n",
    "on: push\n",
    "    \n",
    "jobs:\n",
    "    build:\n",
    "        \n",
    "        runs-on: ubuntu-latest #CI to run on (github offers ubuntu, macOs and windows images)\n",
    "        srategy: # allows to parametrize or build by creating a matrix\n",
    "            matrix:\n",
    "                python-version: [3.6, 3.7, 3.8] #runs for 3 different python versions\n",
    "                    \n",
    "        steps:\n",
    "            - uses: actions/checkout@v2 #--\n",
    "            - name: Build using Python ${{ matrix.python-version }}\n",
    "            uses: actions/setup-python@v2 #--checks for our directory and set python up\n",
    "            with:\n",
    "                python-version: ${{ matrix.python-version }}\n",
    "                    \n",
    "        -name: install dependencies [pip] #install our dependencies\n",
    "        run: python -m pip install pip --upgrade pip #make sure python is install\n",
    "            pip install flake8 #make sure our code is formatted as we like\n",
    "            if [ -f requirements.txt ]; then pip install -r requirements.txt; fi\n",
    "            pip install -e .\n",
    "            \n",
    "        -name: run linter [flake8] #run our linter\n",
    "        run: flake8 .\n",
    "            \n",
    "        -name: run unit tests [pytest] #run our test\n",
    "        run: pytest"
   ]
  },
  {
   "cell_type": "markdown",
   "id": "bd1ca53a",
   "metadata": {},
   "source": [
    "## Package a project on release"
   ]
  },
  {
   "cell_type": "markdown",
   "id": "c15b98bc",
   "metadata": {},
   "source": [
    "**Create a <code>release.yml</code> file on the worFlows directory"
   ]
  },
  {
   "cell_type": "code",
   "execution_count": null,
   "id": "903d702b",
   "metadata": {},
   "outputs": [],
   "source": [
    "#workflow only triggers on publishing a new release\n",
    "name: Create Release Artifact\n",
    "\n",
    "on: \n",
    "    release:\n",
    "        type: [published]\n",
    "    \n",
    "jobs:\n",
    "    creat-release-artifact:\n",
    "        \n",
    "        runs-on: ubuntu-latest #CI to run on (github offers ubuntu, macOs and windows images)\n",
    "                    \n",
    "        steps:\n",
    "            - uses: actions/checkout@v2 #--\n",
    "            - name: Build using Python 3.7\n",
    "            uses: actions/setup-python@v2 #--checks for our directory and set python up\n",
    "            with:\n",
    "                python-version: 3.7\n",
    "                    \n",
    "        -name: install dependencies [pip] #install our dependencies\n",
    "        run: python -m pip install pip --upgrade pip #make sure python is install\n",
    "            pip install flake8 #make sure our code is formatted as we like\n",
    "            if [ -f requirements.txt ]; then pip install -r requirements.txt; fi\n",
    "            pip install -e .\n",
    "            \n",
    "        -name: run linter [flake8] #run our linter\n",
    "        run: flake8 .\n",
    "            \n",
    "        -name: run unit tests [pytest] #run our test\n",
    "        run: pytest\n",
    "            \n",
    "        #create a build artifact\n",
    "        -name: create build artifact [sdist]\n",
    "        run: python setup.py sdist #gives a directory on a zip release file\n",
    "            \n",
    "        - name: get release name\n",
    "        id: get_release_name\n",
    "        run: echo ::set-output name=VERSION::${GITHUB_REF/refs\\/tags\\//} #get the release name by the tag\n",
    "        \n",
    "        -name: upload build artifact\n",
    "        uses: actions/upload-artifact@v2\n",
    "        with:\n",
    "            name: kpi-${{ steps.get_release_name.outputs.VERSION}} #give this build artifact a name/ get the version of the tag we got above\n",
    "            path: dist/*"
   ]
  },
  {
   "cell_type": "markdown",
   "id": "89433d76",
   "metadata": {},
   "source": [
    "# Using the Python starter workflow\n",
    "Githhub CI https://docs.github.com/en/actions/automating-builds-and-tests/building-and-testing-python\n",
    "\n",
    "To get started quickly, add the starter workflow to the <code>.github/workflows</code> directory of your repository."
   ]
  },
  {
   "cell_type": "code",
   "execution_count": null,
   "id": "b0f8a583",
   "metadata": {},
   "outputs": [],
   "source": [
    "#YAML\n",
    "name: Python package\n",
    "\n",
    "on: [push]\n",
    "\n",
    "jobs:\n",
    "  build:\n",
    "\n",
    "    runs-on: ubuntu-latest\n",
    "    strategy:\n",
    "      matrix:\n",
    "        python-version: [\"3.6\", \"3.7\", \"3.8\", \"3.9\"]\n",
    "\n",
    "    steps:\n",
    "      - uses: actions/checkout@v2\n",
    "      - name: Set up Python ${{ matrix.python-version }}\n",
    "        uses: actions/setup-python@v2\n",
    "        with:\n",
    "          python-version: ${{ matrix.python-version }}\n",
    "      - name: Install dependencies\n",
    "        run: |\n",
    "          python -m pip install --upgrade pip\n",
    "          pip install flake8 pytest\n",
    "          if [ -f requirements.txt ]; then pip install -r requirements.txt; fi\n",
    "      - name: Lint with flake8\n",
    "        run: |\n",
    "          # stop the build if there are Python syntax errors or undefined names\n",
    "          flake8 . --count --select=E9,F63,F7,F82 --show-source --statistics\n",
    "          # exit-zero treats all errors as warnings. The GitHub editor is 127 chars wide\n",
    "          flake8 . --count --exit-zero --max-complexity=10 --max-line-length=127 --statistics\n",
    "      - name: Test with pytest\n",
    "        run: |\n",
    "          pytest"
   ]
  },
  {
   "cell_type": "markdown",
   "id": "bd782076",
   "metadata": {},
   "source": [
    "## Using multiple python versions"
   ]
  },
  {
   "cell_type": "code",
   "execution_count": null,
   "id": "8c513fe2",
   "metadata": {},
   "outputs": [],
   "source": [
    "name: Python package\n",
    "\n",
    "on: [push]\n",
    "\n",
    "jobs:\n",
    "  build:\n",
    "\n",
    "    runs-on: ubuntu-latest\n",
    "    strategy:\n",
    "      # You can use PyPy versions in python-version.\n",
    "      # For example, pypy2 and pypy3\n",
    "      matrix:\n",
    "        python-version: [\"2.7\", \"3.6\", \"3.7\", \"3.8\", \"3.9\"]\n",
    "\n",
    "    steps:\n",
    "      - uses: actions/checkout@v2\n",
    "      - name: Set up Python ${{ matrix.python-version }}\n",
    "        uses: actions/setup-python@v2\n",
    "        with:\n",
    "          python-version: ${{ matrix.python-version }}\n",
    "      # You can test your matrix by printing the current Python version\n",
    "      - name: Display Python version\n",
    "        run: python -c \"import sys; print(sys.version)\""
   ]
  },
  {
   "cell_type": "markdown",
   "id": "5c2af018",
   "metadata": {},
   "source": [
    "### Using a specific Python version"
   ]
  },
  {
   "cell_type": "code",
   "execution_count": null,
   "id": "9d0a80ae",
   "metadata": {},
   "outputs": [],
   "source": [
    "    steps:\n",
    "      - uses: actions/checkout@v2\n",
    "      - name: Set up Python 3.x #here\n",
    "        uses: actions/setup-python@v2"
   ]
  },
  {
   "cell_type": "markdown",
   "id": "f2c63c16",
   "metadata": {},
   "source": [
    "### Excluding a Python version"
   ]
  },
  {
   "cell_type": "code",
   "execution_count": null,
   "id": "f0c3a9de",
   "metadata": {},
   "outputs": [],
   "source": [
    "name: Python package\n",
    "\n",
    "on: [push]\n",
    "\n",
    "jobs:\n",
    "  build:\n",
    "\n",
    "    runs-on: ${{ matrix.os }}\n",
    "    strategy:\n",
    "      matrix:\n",
    "        os: [ubuntu-latest, macos-latest, windows-latest]\n",
    "        python-version: [\"3.6\", \"3.7\", \"3.8\", \"3.9\", pypy2, pypy3]\n",
    "        exclude: #keyword exclude\n",
    "          - os: macos-latest\n",
    "            python-version: \"3.6\"\n",
    "          - os: windows-latest\n",
    "            python-version: \"3.6\""
   ]
  },
  {
   "cell_type": "markdown",
   "id": "19260d6c",
   "metadata": {},
   "source": [
    "# Installing dependencies"
   ]
  },
  {
   "cell_type": "code",
   "execution_count": null,
   "id": "d1532faf",
   "metadata": {},
   "outputs": [],
   "source": [
    "steps:\n",
    "- uses: actions/checkout@v2\n",
    "- name: Set up Python\n",
    "  uses: actions/setup-python@v2\n",
    "  with:\n",
    "    python-version: '3.x'\n",
    "- name: Install dependencies\n",
    "  run: python -m pip install --upgrade pip setuptools wheel"
   ]
  },
  {
   "cell_type": "markdown",
   "id": "5f1457cd",
   "metadata": {},
   "source": [
    "## Requirements file\n",
    "After you update pip, a typical next step is to install dependencies from requirements.txt."
   ]
  },
  {
   "cell_type": "code",
   "execution_count": null,
   "id": "bd21612e",
   "metadata": {},
   "outputs": [],
   "source": [
    "steps:\n",
    "- uses: actions/checkout@v2\n",
    "- name: Set up Python\n",
    "  uses: actions/setup-python@v2\n",
    "  with:\n",
    "    python-version: '3.x'\n",
    "- name: Install dependencies\n",
    "  run: |\n",
    "    python -m pip install --upgrade pip\n",
    "    pip install -r requirements.txt"
   ]
  },
  {
   "cell_type": "markdown",
   "id": "63b3051d",
   "metadata": {},
   "source": [
    "## Caching Dependencies\n",
    "When using GitHub-hosted runners, you can cache and restore the dependencies using the <code>setup-python</code> action.\n",
    "\n",
    "The following example caches dependencies for pip."
   ]
  },
  {
   "cell_type": "code",
   "execution_count": null,
   "id": "3cd0532d",
   "metadata": {},
   "outputs": [],
   "source": [
    "steps:\n",
    "- uses: actions/checkout@v2\n",
    "- uses: actions/setup-python@v2\n",
    "  with:\n",
    "    python-version: '3.9'\n",
    "    cache: 'pip'\n",
    "- run: pip install -r requirements.txt\n",
    "- run: pip test"
   ]
  },
  {
   "cell_type": "markdown",
   "id": "d2a25300",
   "metadata": {},
   "source": [
    "# Testing your code\n",
    "You can use the same commands that you use locally to build and test your code."
   ]
  },
  {
   "cell_type": "code",
   "execution_count": null,
   "id": "d900a5d9",
   "metadata": {},
   "outputs": [],
   "source": [
    "steps:\n",
    "- uses: actions/checkout@v2\n",
    "- name: Set up Python\n",
    "  uses: actions/setup-python@v2\n",
    "  with:\n",
    "    python-version: '3.x'\n",
    "- name: Install dependencies\n",
    "  run: |\n",
    "    python -m pip install --upgrade pip\n",
    "    pip install -r requirements.txt\n",
    "- name: Test with pytest\n",
    "  run: |\n",
    "    pip install pytest\n",
    "    pip install pytest-cov\n",
    "    pytest tests.py --doctest-modules --junitxml=junit/test-results.xml --cov=com --cov-report=xml --cov-report=html"
   ]
  },
  {
   "cell_type": "markdown",
   "id": "4ebef8e1",
   "metadata": {},
   "source": [
    "## Using Flake8 to lint code\n",
    "The following example installs or upgrades flake8 and uses it to lint all files."
   ]
  },
  {
   "cell_type": "code",
   "execution_count": null,
   "id": "9691dcbc",
   "metadata": {},
   "outputs": [],
   "source": [
    "steps:\n",
    "- uses: actions/checkout@v2\n",
    "- name: Set up Python\n",
    "  uses: actions/setup-python@v2\n",
    "  with:\n",
    "    python-version: '3.x'\n",
    "- name: Install dependencies\n",
    "  run: |\n",
    "    python -m pip install --upgrade pip\n",
    "    pip install -r requirements.txt\n",
    "- name: Lint with flake8\n",
    "  run: |\n",
    "    pip install flake8\n",
    "    flake8 .\n",
    "  continue-on-error: true #This will keep the workflow from failing if the linting step doesn't succeed"
   ]
  },
  {
   "cell_type": "markdown",
   "id": "5134248e",
   "metadata": {},
   "source": [
    "### Running tests with tox\n",
    "With GitHub Actions, you can run tests with tox and spread the work across multiple jobs. You'll need to invoke tox using the <code>-e py</code> option to choose the version of Python in your <code>PATH</code>, rather than specifying a specific version. For more information, see tox."
   ]
  },
  {
   "cell_type": "code",
   "execution_count": null,
   "id": "7da9d69b",
   "metadata": {},
   "outputs": [],
   "source": [
    "name: Python package\n",
    "\n",
    "on: [push]\n",
    "\n",
    "jobs:\n",
    "  build:\n",
    "\n",
    "    runs-on: ubuntu-latest\n",
    "    strategy:\n",
    "      matrix:\n",
    "        python: [\"3.7\", \"3.8\", \"3.9\"]\n",
    "\n",
    "    steps:\n",
    "      - uses: actions/checkout@v2\n",
    "      - name: Setup Python\n",
    "        uses: actions/setup-python@v2\n",
    "        with:\n",
    "          python-version: ${{ matrix.python }}\n",
    "      - name: Install tox and any other packages\n",
    "        run: pip install tox\n",
    "      - name: Run tox\n",
    "        # Run tox using the version of Python in `PATH`\n",
    "        run: tox -e py"
   ]
  },
  {
   "cell_type": "markdown",
   "id": "b49a892a",
   "metadata": {},
   "source": [
    "# Packaging workflow data as artifacts\n",
    "You can upload artifacts to view after a workflow completes. For example, you may need to save log files, core dumps, test results, or screenshots.\n",
    "\n",
    "The following example demonstrates how you can use the <code>upload-artifact</code> action to archive test results from running <code>pytest</code>."
   ]
  },
  {
   "cell_type": "code",
   "execution_count": null,
   "id": "d9bc1593",
   "metadata": {},
   "outputs": [],
   "source": [
    "name: Python package\n",
    "\n",
    "on: [push]\n",
    "\n",
    "jobs:\n",
    "  build:\n",
    "\n",
    "    runs-on: ubuntu-latest\n",
    "    strategy:\n",
    "      matrix:\n",
    "        python-version: [\"3.6\", \"3.7\", \"3.8\", \"3.9\"]\n",
    "\n",
    "    steps:\n",
    "      - uses: actions/checkout@v2\n",
    "      - name: Setup Python # Set Python version\n",
    "        uses: actions/setup-python@v2\n",
    "        with:\n",
    "          python-version: ${{ matrix.python-version }}\n",
    "      # Install pip and pytest\n",
    "      - name: Install dependencies\n",
    "        run: |\n",
    "          python -m pip install --upgrade pip\n",
    "          pip install pytest\n",
    "      - name: Test with pytest\n",
    "        run: pytest tests.py --doctest-modules --junitxml=junit/test-results-${{ matrix.python-version }}.xml\n",
    "      - name: Upload pytest test results\n",
    "        uses: actions/upload-artifact@v2\n",
    "        with:\n",
    "          name: pytest-results-${{ matrix.python-version }}\n",
    "          path: junit/test-results-${{ matrix.python-version }}.xml\n",
    "        # Use always() to always run this step to publish test results when there are test failures\n",
    "        if: ${{ always() }}"
   ]
  },
  {
   "cell_type": "markdown",
   "id": "9d1d5629",
   "metadata": {},
   "source": [
    "# Publishing to package registries\n",
    "You can configure your workflow to publish your Python package to a package registry once your CI tests pass. This section demonstrates how you can use GitHub Actions to upload your package to PyPI each time you publish a release.\n",
    "\n",
    "For this example, you will need to create two PyPI API tokens. You can use secrets to store the access tokens or credentials needed to publish your package."
   ]
  },
  {
   "cell_type": "code",
   "execution_count": null,
   "id": "d641b1fe",
   "metadata": {},
   "outputs": [],
   "source": [
    "# This workflow uses actions that are not certified by GitHub.\n",
    "# They are provided by a third-party and are governed by\n",
    "# separate terms of service, privacy policy, and support\n",
    "# documentation.\n",
    "\n",
    "name: Upload Python Package\n",
    "\n",
    "on:\n",
    "  release:\n",
    "    types: [published]\n",
    "\n",
    "jobs:\n",
    "  deploy:\n",
    "    runs-on: ubuntu-latest\n",
    "    steps:\n",
    "      - uses: actions/checkout@v2\n",
    "      - name: Set up Python\n",
    "        uses: actions/setup-python@v2\n",
    "        with:\n",
    "          python-version: '3.x'\n",
    "      - name: Install dependencies\n",
    "        run: |\n",
    "          python -m pip install --upgrade pip\n",
    "          pip install build\n",
    "      - name: Build package\n",
    "        run: python -m build\n",
    "      - name: Publish package\n",
    "        uses: pypa/gh-action-pypi-publish@27b31702a0e7fc50959f5ad993c78deac1bdfc29\n",
    "        with:\n",
    "          user: __token__\n",
    "          password: ${{ secrets.PYPI_API_TOKEN }}"
   ]
  }
 ],
 "metadata": {
  "kernelspec": {
   "display_name": "Python 3 (ipykernel)",
   "language": "python",
   "name": "python3"
  },
  "language_info": {
   "codemirror_mode": {
    "name": "ipython",
    "version": 3
   },
   "file_extension": ".py",
   "mimetype": "text/x-python",
   "name": "python",
   "nbconvert_exporter": "python",
   "pygments_lexer": "ipython3",
   "version": "3.8.12"
  },
  "toc": {
   "base_numbering": 1,
   "nav_menu": {},
   "number_sections": true,
   "sideBar": true,
   "skip_h1_title": false,
   "title_cell": "Table of Contents",
   "title_sidebar": "Contents",
   "toc_cell": false,
   "toc_position": {},
   "toc_section_display": true,
   "toc_window_display": false
  }
 },
 "nbformat": 4,
 "nbformat_minor": 5
}
