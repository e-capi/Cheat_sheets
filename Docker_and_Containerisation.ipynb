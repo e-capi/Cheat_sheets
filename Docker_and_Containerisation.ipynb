{
 "cells": [
  {
   "cell_type": "code",
   "execution_count": 1,
   "id": "2048fba5",
   "metadata": {},
   "outputs": [],
   "source": [
    "# <code></code>"
   ]
  },
  {
   "cell_type": "markdown",
   "id": "123baa4a",
   "metadata": {},
   "source": [
    "- Docker version on Linux: <code>sudo docker version</code>\n",
    "- Docker Images: <code>docker image ls</code>\n",
    "- Docker Container: <code>docker container ls</code>"
   ]
  },
  {
   "cell_type": "markdown",
   "id": "bfbf9fcb",
   "metadata": {},
   "source": [
    "## Pulling Images"
   ]
  },
  {
   "cell_type": "markdown",
   "id": "ae948cd8",
   "metadata": {},
   "source": [
    "<code>docker image pull ubuntu:latest</code>"
   ]
  },
  {
   "cell_type": "markdown",
   "id": "81542726",
   "metadata": {},
   "source": [
    "## Running containers\n",
    "\n",
    "<code>docker container run -it ubuntu:latest /bin/bash</code>\n",
    "\n",
    "- <code>-it</code> **flags switch your shell into the terminal of the container**\n",
    "- <code>docker container run</code> **tells the Docker daemon to start a new container**\n",
    "- <code>ubuntu:latest</code> **the command tells Docker that we want the container to be based on the ubuntu:latest**"
   ]
  },
  {
   "cell_type": "markdown",
   "id": "db14dffa",
   "metadata": {},
   "source": [
    "<code>ps -elf</code>\n",
    " \n",
    "- **The** <code>/bin/bash</code> **process that we told the container to run with the docker container run command.**\n",
    "- **The** <code>ps -elf</code> **command/process that we ran to list the running processes.**"
   ]
  },
  {
   "cell_type": "markdown",
   "id": "12a8a0c7",
   "metadata": {},
   "source": [
    "<code>Ctrl -PQ</code> **to exit from the container. Doing this from inside of a container will exit you from the container without killing it.**"
   ]
  },
  {
   "cell_type": "markdown",
   "id": "de40aa6b",
   "metadata": {},
   "source": [
    "## Attaching to Running Containers\n",
    "\n",
    "**You can attach your shell to the terminal of a running container with the** <code>docker container exec</code> **command**"
   ]
  },
  {
   "cell_type": "markdown",
   "id": "14e560d5",
   "metadata": {},
   "source": [
    "**<code>docker container exec 'option' 'container-name or container-id' 'command/app'</code>**\n",
    "\n",
    "<code>docker container exec -it container_name bash</code>"
   ]
  },
  {
   "cell_type": "markdown",
   "id": "1236a423",
   "metadata": {},
   "source": [
    "### Stop containers\n",
    "\n",
    "- <code>docker container stop container_name</code>\n",
    "- <code>docker container rm container_name</code>\n",
    "\n",
    "**Verify that the container was successfully deleted by running the** <code>docker container ls -a</code>"
   ]
  },
  {
   "cell_type": "markdown",
   "id": "3c98e94b",
   "metadata": {},
   "source": [
    "docker container exec -it vigilant_borg bash"
   ]
  },
  {
   "cell_type": "markdown",
   "id": "e82d3c05",
   "metadata": {},
   "source": [
    "## Create and run a web server image locally"
   ]
  },
  {
   "cell_type": "markdown",
   "id": "ab889872",
   "metadata": {},
   "source": [
    "- <code>docker image build -t test:latest .</code> **create an image named test with the latest version defined on the Dockerfile**\n",
    "- <code>docker container run -d --name web1 --publish 8080:8080 test:latest</code> run it locally"
   ]
  },
  {
   "attachments": {
    "image.png": {
     "image/png": "[encoded data removed]"
    }
   },
   "cell_type": "markdown",
   "id": "12b482ec",
   "metadata": {},
   "source": [
    "# Images\n",
    "**Images are like stopped containers (or classes if you’re a developer).**\n",
    "![image.png](attachment:image.png)"
   ]
  },
  {
   "cell_type": "markdown",
   "id": "d316c42e",
   "metadata": {},
   "source": [
    "**Commands to start one or more containers from a single image.**\n",
    "- <code>docker container run</code>\n",
    "- <code>docker service create</code>\n",
    "\n",
    "*Once you’ve started a container from an image, the two constructs become dependent on each other, and you cannot delete the image until the last container using it has been stopped and destroyed.*"
   ]
  },
  {
   "cell_type": "markdown",
   "id": "2b264832",
   "metadata": {},
   "source": [
    "## Pulling"
   ]
  },
  {
   "cell_type": "markdown",
   "id": "0cd408a5",
   "metadata": {},
   "source": [
    "<code>docker image pull redis:latest</code>  **pull latest redis image**\n",
    "\n",
    "<code>docker image pull alpine:latest </code>  **pull latest alpine image**\n",
    "\n",
    "<code>docker image ls</code> **check all images**"
   ]
  },
  {
   "cell_type": "markdown",
   "id": "812ca0d6",
   "metadata": {},
   "source": [
    "### Official Repositories\n",
    "**Addressing images from official repositories is as simple as providing the repository name and the tag separated by a colon (:).**"
   ]
  },
  {
   "cell_type": "code",
   "execution_count": null,
   "id": "e83fd55f",
   "metadata": {},
   "outputs": [],
   "source": [
    "docker image pull <repository>:<tag>"
   ]
  },
  {
   "cell_type": "markdown",
   "id": "078539d2",
   "metadata": {},
   "source": [
    "**Example:**\n",
    "\n",
    "- <code>docker image pull mongo:4.2.6</code>\n",
    "- <code>docker image pull busybox:latest</code>\n",
    "- <code>docker image pull alpine</code>"
   ]
  },
  {
   "cell_type": "markdown",
   "id": "ab26c196",
   "metadata": {},
   "source": [
    "### Unofficial Repositories"
   ]
  },
  {
   "cell_type": "markdown",
   "id": "d53e53fb",
   "metadata": {},
   "source": [
    "DockerHub username/Organization name + the name + **:** + version\n",
    "\n",
    "<code>docker image pull nigelpoulton/tu-demo:v2</code>"
   ]
  },
  {
   "cell_type": "markdown",
   "id": "25fd01af",
   "metadata": {},
   "source": [
    "#### Images with Multiple Tags\n",
    "Pull all of the images in a repository by using <code>-a</code> on the pull request\n",
    "\n",
    "<code>docker image pull -a nigelpoulton/tu-demo</code>"
   ]
  },
  {
   "cell_type": "markdown",
   "id": "f337e8ca",
   "metadata": {},
   "source": [
    "# Filtering the Output of \"docker image ls\"\n",
    "\n",
    "<code>docker image ls --filter dangling=true</code>\n",
    "\n",
    "**A dangling image is an image that is no longer tagged and appears in listings as none:none**"
   ]
  },
  {
   "cell_type": "markdown",
   "id": "b9aeb2e0",
   "metadata": {},
   "source": [
    "You can delete all dangling images on a system with the <code>docker image prune</code> command. If you add the <code>-a</code> flag, Docker will also remove all unused images (those not in use by any containers)."
   ]
  },
  {
   "cell_type": "markdown",
   "id": "cefee506",
   "metadata": {},
   "source": [
    "- <code>dangling:</code> *Accepts <code>true</code> or <code>false</code>, and returns only dangling images (true) or non-dangling images (false).*\n",
    "- <code>before:</code> *Requires an image name or ID as argument, and returns all images created before i*\n",
    "- <code>since:</code> *Same as above, but it returns images created after the specified image.*\n",
    "- <code>label:</code> *Filters images based on the presence of a label or label and value. The docker image ls command does not display labels in its output.*\n",
    "\n",
    "For all other filtering, you can use <code>reference</code>."
   ]
  },
  {
   "cell_type": "markdown",
   "id": "003755cf",
   "metadata": {},
   "source": [
    "**Example format:**\n",
    "\n",
    "You can also use the <code>--format</code> flag to format output using Go templates. For example, the following command will only return the size property of images on a Docker host.\n",
    "\n",
    "- <code>docker image ls --filter=reference=\"*:latest\"</code> Only display images tagged as latest\n",
    "\n",
    "- <code>docker image ls --format \"{{.Size}}\"</code> **Return the size property of images on a Docker host.**\n",
    "\n",
    "- <code>docker image ls --format \"{{.Repository}}: {{.Tag}}: {{.Size}}\"</code> **Return all images, but only display repo, tag, and size.**"
   ]
  },
  {
   "cell_type": "markdown",
   "id": "92b55775",
   "metadata": {},
   "source": [
    "# Searching Docker Hub From the CLI\n",
    "\n",
    "<code>docker search</code>"
   ]
  },
  {
   "cell_type": "markdown",
   "id": "b5fff341",
   "metadata": {},
   "source": [
    "- docker search alpine --filter \"is-official=true\" **You can use**<code>--filter \"is-official=true\"</code> **so that only official repos are displayed.**\n",
    "\n",
    "- docker search alpine --filter \"is-automated=true\" **Only show repos with automated builds.**\n",
    "\n",
    "One last thing about <code>docker search:</code> by default, Docker will only display 25 lines of results. However, you can use the <code>--limit</code> flag to increase that to a maximum of 100."
   ]
  },
  {
   "cell_type": "markdown",
   "id": "365db568",
   "metadata": {},
   "source": [
    "# Images and layers\n",
    "\n",
    "<code>docker image inspect</code>\n",
    "\n",
    "**Ex.** <code>docker image inspect ubuntu:latest</code>"
   ]
  },
  {
   "attachments": {
    "image.png": {
     "image/png": "[encoded data removed]"
    }
   },
   "cell_type": "markdown",
   "id": "8b0922ce",
   "metadata": {},
   "source": [
    "![image.png](attachment:image.png)\n",
    "\n",
    "**It’s important to understand that as additional layers are added, the image is always the combination of all layers stacked in the order they were added.**"
   ]
  },
  {
   "cell_type": "markdown",
   "id": "ffd781de",
   "metadata": {},
   "source": [
    "## Image digest\n",
    "\n",
    "<code>docker image pull alpine </code>    \n",
    "<code>docker image ls --digests alpine </code>\n",
    "\n",
    "**Tags** are mutable therefore it's important to introduce digest.\n",
    "\n",
    "Docker 1.10 introduced a content-addressable storage model. As part of this model, all images get a cryptographic content hash. As the digest is a hash of the contents of the image, it’s impossible to change the contents of the image without creating a new unique digest. To put it another way, you cannot change the content of an image and keep the old digest. This means digests are immutable and provide a solution to the problem that we just talked about."
   ]
  },
  {
   "cell_type": "markdown",
   "id": "bdecfb07",
   "metadata": {},
   "source": [
    "## Delete Images\n",
    "\n",
    "<code>docker image rm</code> command. <code>rm</code> is short for “remove.”\n",
    "\n",
    "**Ex.** <code>docker image rm f70734b6a266 a4d3716dbb72</code> Deletes multiple images"
   ]
  },
  {
   "cell_type": "markdown",
   "id": "3499e4bf",
   "metadata": {},
   "source": [
    "### Delete all images\n",
    "\n",
    "**A handy shortcut for deleting all images on a Docker host is to run the docker image rm command, and pass it a list of all image IDs on the system by calling docker image ls with the -q flag.**"
   ]
  },
  {
   "cell_type": "markdown",
   "id": "959e1bdc",
   "metadata": {},
   "source": [
    "<code>docker image rm $(docker image ls -q) -f</code>"
   ]
  },
  {
   "cell_type": "markdown",
   "id": "9cb4beb0",
   "metadata": {},
   "source": [
    "### Images - The Commands"
   ]
  },
  {
   "cell_type": "markdown",
   "id": "4778f52d",
   "metadata": {},
   "source": [
    "- <code>docker image pull</code>is the command to download images. We pull images from repositories inside of remote registries. By default, images will be pulled from repositories on Docker Hub. The following command will pull the image tagged as <code>latest</code> from the <code>alpine</code> repository on Docker Hub: <code>docker image pull alpine:latest</code>.\n",
    "\n",
    "\n",
    "- <code>docker image ls</code>lists all of the images stored in your Docker host’s local image cache. To see the SHA256 digests of images add the <code>--digests</code> flag.\n",
    "\n",
    "\n",
    "- <code>docker image inspect</code>is a thing of beauty! It gives you all of the glorious details of an image—layer data and metadata.\n",
    "\n",
    "\n",
    "- <code>docker manifest inspect</code>allows you to inspect the manifest list of any image stored on Docker Hub. This will show the manifest list for the <code>redis</code> image: <code>docker manifest inspect redis</code>.\n",
    "\n",
    "\n",
    "- <code>docker buildx</code>is a Docker CLI plugin that extends the Docker CLI to support multi-arch builds.\n",
    "\n",
    "\n",
    "- <code>docker image rm</code>is the command to delete images. This command shows how to delete the <code>alpine:latest</code> image: <code>docker image rm alpine:latest</code>. You cannot delete an image that is associated with a container in the running (Up) or stopped (Exited) states."
   ]
  },
  {
   "cell_type": "code",
   "execution_count": null,
   "id": "89c86174",
   "metadata": {},
   "outputs": [],
   "source": []
  }
 ],
 "metadata": {
  "kernelspec": {
   "display_name": "Python 3 (ipykernel)",
   "language": "python",
   "name": "python3"
  },
  "language_info": {
   "codemirror_mode": {
    "name": "ipython",
    "version": 3
   },
   "file_extension": ".py",
   "mimetype": "text/x-python",
   "name": "python",
   "nbconvert_exporter": "python",
   "pygments_lexer": "ipython3",
   "version": "3.8.12"
  },
  "toc": {
   "base_numbering": 1,
   "nav_menu": {},
   "number_sections": true,
   "sideBar": true,
   "skip_h1_title": false,
   "title_cell": "Table of Contents",
   "title_sidebar": "Contents",
   "toc_cell": false,
   "toc_position": {},
   "toc_section_display": true,
   "toc_window_display": false
  }
 },
 "nbformat": 4,
 "nbformat_minor": 5
}
