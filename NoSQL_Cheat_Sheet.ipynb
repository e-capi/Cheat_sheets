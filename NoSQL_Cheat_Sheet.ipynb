{
 "cells": [
  {
   "cell_type": "markdown",
   "id": "1c6f948b",
   "metadata": {},
   "source": [
    "# Introduction"
   ]
  },
  {
   "cell_type": "markdown",
   "id": "4875df67",
   "metadata": {},
   "source": [
    "## What is NoSQL ?"
   ]
  },
  {
   "cell_type": "markdown",
   "id": "d823f825",
   "metadata": {},
   "source": [
    "### What is a NoSQL database?\n",
    "\n",
    "- Typically use it to refer to any non-relational database\n",
    "- NoSQL databases are databases that store data in a format other than relational tables"
   ]
  },
  {
   "cell_type": "markdown",
   "id": "cffd11ae",
   "metadata": {},
   "source": [
    "### NoSQL database features\n",
    "\n",
    "- Flexible schemas\n",
    "- Horizontal scaling\n",
    "- Fast queries due to the data model\n",
    "- Ease of use for developers"
   ]
  },
  {
   "cell_type": "markdown",
   "id": "a7437513",
   "metadata": {},
   "source": [
    "### Types of NoSQL databases\n",
    "- **Document databases** store data in documents similar to JSON (JavaScript Object Notation) objects. Each document contains pairs of fields and values. The values can typically be a variety of types including things like strings, numbers, booleans, arrays, or objects.\n",
    "- **Key-value databases** are a simpler type of database where each item contains keys and values.\n",
    "- **Wide-column stores** store data in tables, rows, and dynamic columns.\n",
    "- **Graph databases** store data in nodes and edges. Nodes typically store information about people, places, and things, while edges store information about the relationships between the nodes."
   ]
  },
  {
   "cell_type": "markdown",
   "id": "b842b5d5",
   "metadata": {},
   "source": [
    "### When should NoSQL be used?\n",
    "\n",
    "- Fast-paced Agile development\n",
    "- Storage of structured and semi-structured data\n",
    "- Huge volumes of data\n",
    "- Requirements for scale-out architecture\n",
    "- Modern application paradigms like microservices and real-time streaming"
   ]
  },
  {
   "cell_type": "markdown",
   "id": "6d3b5f90",
   "metadata": {},
   "source": [
    "## SQL (relational databases) VS NoSQL"
   ]
  },
  {
   "cell_type": "markdown",
   "id": "9736ced8",
   "metadata": {},
   "source": [
    "**SQL:**\n",
    "- Relational\n",
    "- Vertically Scalation\n",
    "- Table based\n",
    "- SQL language\n",
    "- Multirow Trasaction\n",
    "\n",
    "**NoSQL:**\n",
    "- Not Relational\n",
    "- Horizontally Scalation\n",
    "- Documents and key-values\n",
    "- Dynamic language\n",
    "- Unstructured JSON"
   ]
  },
  {
   "cell_type": "code",
   "execution_count": null,
   "id": "f3189e06",
   "metadata": {},
   "outputs": [],
   "source": []
  }
 ],
 "metadata": {
  "kernelspec": {
   "display_name": "Python 3 (ipykernel)",
   "language": "python",
   "name": "python3"
  },
  "language_info": {
   "codemirror_mode": {
    "name": "ipython",
    "version": 3
   },
   "file_extension": ".py",
   "mimetype": "text/x-python",
   "name": "python",
   "nbconvert_exporter": "python",
   "pygments_lexer": "ipython3",
   "version": "3.8.12"
  },
  "toc": {
   "base_numbering": 1,
   "nav_menu": {},
   "number_sections": true,
   "sideBar": true,
   "skip_h1_title": false,
   "title_cell": "Table of Contents",
   "title_sidebar": "Contents",
   "toc_cell": false,
   "toc_position": {},
   "toc_section_display": true,
   "toc_window_display": false
  }
 },
 "nbformat": 4,
 "nbformat_minor": 5
}
